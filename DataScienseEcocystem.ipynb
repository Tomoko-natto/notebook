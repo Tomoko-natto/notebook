{
 "cells": [
  {
   "attachments": {},
   "cell_type": "markdown",
   "metadata": {},
   "source": [
    "# Data Science Tools and Ecosystem"
   ]
  },
  {
   "attachments": {},
   "cell_type": "markdown",
   "metadata": {},
   "source": [
    "In this notebook, Data Science Tools and Ecosystem are summarized."
   ]
  },
  {
   "attachments": {},
   "cell_type": "markdown",
   "metadata": {},
   "source": [
    "**Objectives:**\n",
    "- List popular languages for Data Science\n",
    "- List popular  languages for Data Science\n",
    "- Data Science Tools"
   ]
  },
  {
   "attachments": {},
   "cell_type": "markdown",
   "metadata": {},
   "source": [
    "some of the popular languages that Data Scientists use are:"
   ]
  },
  {
   "attachments": {},
   "cell_type": "markdown",
   "metadata": {},
   "source": [
    "Python: Python is widely popular in the data science community due to its intuitive syntax, extensive libraries (such as NumPy, pandas, and scikit-learn) for data analysis, visualization, and machine learning. It’s a versatile language that supports various tasks in data science.\n",
    "R: R is specifically designed for data analysis and statistical computing. It has a robust support community and offers powerful tools for data mining, statistical modeling, and visualization. Many researchers and statisticians prefer R for its flexibility and specialized packages. 3.SQL: SQL (Structured Query Language) is crucial for querying data from databases. While not a general-purpose programming language like Python or R, SQL is essential for managing and extracting information from relational databases.\n",
    "SQL: SQL (Structured Query Language) is crucial for querying data from databases. While not a general-purpose programming language like Python or R, SQL is essential for managing and extracting information from relational databases."
   ]
  },
  {
   "attachments": {},
   "cell_type": "markdown",
   "metadata": {},
   "source": [
    "Some of the commonly used libraries used by Data Scientists inclu"
   ]
  },
  {
   "attachments": {},
   "cell_type": "markdown",
   "metadata": {},
   "source": [
    "NumPy: NumPy is a widely-used open-source Python library primarily used for scientific computation. Its built-in mathematical functions enable lightning-speed computation and support multidimensional data and large matrices. NumPy Arrays are often preferred over lists due to their memory efficiency and convenience. It’s an essential tool for linear algebra and numerical computing1.\n",
    "Pandas: Pandas is another open-source library commonly used in data science. It excels in data analysis, manipulation, and cleaning. With Pandas, you can perform data modeling and analysis operations without writing extensive code. Key features include DataFrames (for efficient data manipulation) and tools for reading and writing data in various formats (such as Excel, CSV, and SQL databases)1.\n",
    "Matplotlib: Matplotlib is a powerful library for data visualization. It allows you to create various types of plots and graphs. Whether you need line charts, scatter plots, histograms, or heatmaps, Matplotlib has got you covered. It’s an essential tool for conveying insights from your data visually"
   ]
  },
  {
   "attachments": {},
   "cell_type": "markdown",
   "metadata": {},
   "source": [
    "Data Science Tools"
   ]
  },
  {
   "attachments": {},
   "cell_type": "markdown",
   "metadata": {},
   "source": [
    "RStudio: RStudio is an integrated development environment (IDE) specifically designed for R programming. It provides a user-friendly interface for writing, executing, and debugging R code. Data scientists often use RStudio for data analysis, visualization, and statistical modeling1.\n",
    "Jupyter Notebooks: Jupyter Notebooks are interactive web-based environments that allow you to create and share documents containing live code, equations, visualizations, and narrative text. They support multiple programming languages, including Python, R, and Julia. Jupyter Notebooks are widely used for exploratory data analysis, machine learning, and collaborative research2.\n",
    "PyCharm and Visual Studio Code (VS Code): While not exclusively for data science, both PyCharm and VS Code are powerful IDEs that support Python. PyCharm offers features like code completion, debugging, and integration with scientific libraries. VS Code, on the other hand, is highly customizable and has a rich ecosystem of extensions for data science tasks. Data scientists often choose between these two based on personal preference and project requirements2."
   ]
  },
  {
   "attachments": {},
   "cell_type": "markdown",
   "metadata": {},
   "source": [
    "### Below are a few examples of evaluating arithmetic expressions in Python"
   ]
  },
  {
   "cell_type": "code",
   "execution_count": null,
   "metadata": {},
   "outputs": [],
   "source": [
    "(3*4)+5\n",
    "#This a simple arithmetic expression to mutiply then add integers"
   ]
  },
  {
   "cell_type": "code",
   "execution_count": null,
   "metadata": {},
   "outputs": [],
   "source": [
    "200/60\n",
    "#This will convert 200 minutes to hours by diving by 60"
   ]
  },
  {
   "attachments": {},
   "cell_type": "markdown",
   "metadata": {},
   "source": [
    "## Author"
   ]
  },
  {
   "attachments": {},
   "cell_type": "markdown",
   "metadata": {},
   "source": [
    "Tomoko Kobayashi"
   ]
  }
 ],
 "metadata": {
  "language_info": {
   "name": "python"
  },
  "orig_nbformat": 4
 },
 "nbformat": 4,
 "nbformat_minor": 2
}
